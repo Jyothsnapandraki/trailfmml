{
  "nbformat": 4,
  "nbformat_minor": 0,
  "metadata": {
    "colab": {
      "provenance": [],
      "include_colab_link": true
    },
    "kernelspec": {
      "name": "python3",
      "display_name": "Python 3"
    },
    "language_info": {
      "name": "python"
    }
  },
  "cells": [
    {
      "cell_type": "markdown",
      "metadata": {
        "id": "view-in-github",
        "colab_type": "text"
      },
      "source": [
        "<a href=\"https://colab.research.google.com/github/Jyothsnapandraki/trailfmml/blob/main/Copy_of_13_08_2024Day3CWProblems.ipynb\" target=\"_parent\"><img src=\"https://colab.research.google.com/assets/colab-badge.svg\" alt=\"Open In Colab\"/></a>"
      ]
    },
    {
      "cell_type": "markdown",
      "source": [
        "###**LIST, TUPLE , DICTIONARIES AND SETS**"
      ],
      "metadata": {
        "id": "NZCCchHripRe"
      }
    },
    {
      "cell_type": "markdown",
      "source": [
        "### **Lists:**\n",
        "\n",
        "* Introduction to lists as a data structure.\n",
        "* Creating lists and accessing elements.\n",
        "* List methods (append, insert, pop, etc.).\n",
        "* List slicing."
      ],
      "metadata": {
        "id": "QGCLcUgiDxIb"
      }
    },
    {
      "cell_type": "markdown",
      "source": [
        "###**LIST:-**\n",
        "\n",
        "* Lists are used to store multiple values in one single variable.\n",
        "\n",
        "* In python lists are written in square brackets \"[ ]\".\n",
        "\n",
        "* Lists are Ordered, changable and allows duplicants..!\n",
        "\n",
        "* List items are indexed, the first item has index [0], the second item has index [1].\n",
        "\n",
        "* Index starts with 0 and ends with (n-1).\n",
        "* we use slice the list by using [:] operator.\n",
        "\n",
        "\n",
        "\n",
        "\n",
        "\n",
        "\n",
        "\n"
      ],
      "metadata": {
        "id": "MVGUR7XBF4SO"
      }
    },
    {
      "cell_type": "code",
      "execution_count": 2,
      "metadata": {
        "id": "DKIU9GnjDtDt",
        "colab": {
          "base_uri": "https://localhost:8080/"
        },
        "outputId": "a85917a6-b49a-453b-e7c1-7c6f980aa48a"
      },
      "outputs": [
        {
          "output_type": "stream",
          "name": "stdout",
          "text": [
            "[1, 2, 3, 4, 5, 6, 5, 4, 4]\n",
            "<class 'list'>\n"
          ]
        }
      ],
      "source": [
        "#CREATING A LIST\n",
        "L=[1,2,3,4,5,6,5,4,4]\n",
        "print(L)\n",
        "print(type(L))"
      ]
    },
    {
      "cell_type": "code",
      "source": [
        "#LIST TO ACCESS ELEMENTS\n",
        "print(L[3])   #accessing the element 4 o index 3\n",
        "print(L[2:5])  #accessing the elements from index 2 to index 4"
      ],
      "metadata": {
        "colab": {
          "base_uri": "https://localhost:8080/"
        },
        "id": "yE3iM4U5BKOW",
        "outputId": "cbd053bc-b000-4ee1-d1e3-875ea6fb252a"
      },
      "execution_count": 3,
      "outputs": [
        {
          "output_type": "stream",
          "name": "stdout",
          "text": [
            "4\n",
            "[3, 4, 5]\n"
          ]
        }
      ]
    },
    {
      "cell_type": "code",
      "source": [
        "#List accessing using for loop\n",
        "for list in L:\n",
        "  print(list)"
      ],
      "metadata": {
        "colab": {
          "base_uri": "https://localhost:8080/"
        },
        "id": "nHxpLl16Bo2Z",
        "outputId": "348e737f-522c-4342-8f38-63aa02da02d0"
      },
      "execution_count": 5,
      "outputs": [
        {
          "output_type": "stream",
          "name": "stdout",
          "text": [
            "1\n",
            "2\n",
            "3\n",
            "4\n",
            "5\n",
            "6\n",
            "5\n",
            "4\n",
            "4\n"
          ]
        }
      ]
    },
    {
      "cell_type": "markdown",
      "source": [
        "###**LIST METHODS:-**\n",
        "\n",
        ">len()->returns legth of the list\n",
        "\n",
        ">append() ->adds an element at end of the list\n",
        "\n",
        ">copy() ->reurns copy of the list\n",
        "\n",
        ">count()->returns the numbe of elements with a specified value\n",
        "\n",
        ">extend() ->add the elements or any multiple\n",
        "\n",
        ">index()->returns the index of teh first element with specified value\n",
        "\n",
        ">insert() -> add an element at particular position\n",
        "\n",
        ">pop()-> removes an element at the specified position\n",
        "\n",
        ">remove()-> removes the item\n",
        "\n",
        ">reverse()-> reverse the order of the list\n",
        "\n",
        ">sort()-> sort the list in ascending or descending order.\n",
        "\n",
        ">clear()->removes all the elemets in the list"
      ],
      "metadata": {
        "id": "oKvrZudJCG3R"
      }
    },
    {
      "cell_type": "code",
      "source": [],
      "metadata": {
        "id": "h67gFPDTFXow"
      },
      "execution_count": 5,
      "outputs": []
    },
    {
      "cell_type": "code",
      "source": [
        "L=[1,2,3,4,5,6,7,\"pannu\",8,90]\n",
        "print(L)\n",
        "#LENGTH\n",
        "print(\"Length=\",len(L))\n",
        "#APPEND\n",
        "L.append(5)\n",
        "print(L)\n",
        "#COPY\n",
        "L2=L.copy()\n",
        "print(L2)\n",
        "#EXTEND\n",
        "L.extend('pavani')\n",
        "print(L)\n",
        "#INDEX\n",
        "print(L.index('pannu'))\n",
        "L.insert(6,'pavani')\n",
        "print(L)\n",
        "#POP\n",
        "L.pop()\n",
        "print(L)\n",
        "#CLEAR\n",
        "L.clear()\n",
        "print(L)"
      ],
      "metadata": {
        "colab": {
          "base_uri": "https://localhost:8080/"
        },
        "id": "9NgzPDjEscod",
        "outputId": "8df870e4-ac25-4522-c209-774bf5d7644b"
      },
      "execution_count": 7,
      "outputs": [
        {
          "output_type": "stream",
          "name": "stdout",
          "text": [
            "[1, 2, 3, 4, 5, 6, 7, 'pannu', 8, 90]\n",
            "Length= 10\n",
            "[1, 2, 3, 4, 5, 6, 7, 'pannu', 8, 90, 5]\n",
            "[1, 2, 3, 4, 5, 6, 7, 'pannu', 8, 90, 5]\n",
            "[1, 2, 3, 4, 5, 6, 7, 'pannu', 8, 90, 5, 'p', 'a', 'v', 'a', 'n', 'i']\n",
            "7\n",
            "[1, 2, 3, 4, 5, 6, 'pavani', 7, 'pannu', 8, 90, 5, 'p', 'a', 'v', 'a', 'n', 'i']\n",
            "[1, 2, 3, 4, 5, 6, 'pavani', 7, 'pannu', 8, 90, 5, 'p', 'a', 'v', 'a', 'n']\n",
            "[]\n"
          ]
        }
      ]
    },
    {
      "cell_type": "markdown",
      "source": [
        "###**LIST SLICING:-**\n",
        "\n",
        "* In Python List, there are multiple ways to print the whole List with all the elements, but to print a specific range of elements from the list, we use Slice operation.\n",
        "*  Slice operation is performed on Lists with the use of a colon(:).\n",
        "* To print elements from beginning to a range use [: Index]\n",
        "* to print elements from end-use [:-Index]\n",
        "* to print elements from specific Index till the end use [Index:]\n",
        "* to print elements within a range, use [Start Index:End Index] and to print the whole List\n",
        "with the use of slicing operation, use [:]."
      ],
      "metadata": {
        "id": "aQ4nWLbEvSX6"
      }
    },
    {
      "cell_type": "code",
      "source": [
        "LS=[1,2,3,4,5,6,7,8,9]\n",
        "#Beginning to end\n",
        "Beg=LS[:]\n",
        "print(Beg)\n",
        "#From beginning to certain range\n",
        "Cer=LS[:5]\n",
        "print(Cer)\n",
        "#REVERSE\n",
        "Rev=LS[::-1]\n",
        "print(Rev)\n",
        "#From end to ceertain range\n",
        "Ecer=LS[3:-1]\n",
        "print(Ecer)\n",
        "#Only print even\n",
        "Ev=LS[1::2]\n",
        "print(Ev)\n",
        "#Only odd print\n",
        "Odd=LS[::2]\n",
        "print(Odd)"
      ],
      "metadata": {
        "colab": {
          "base_uri": "https://localhost:8080/"
        },
        "id": "7R_meJtBvdhz",
        "outputId": "0a41f16e-6b4b-4c1c-fc7b-e6a0318db844"
      },
      "execution_count": null,
      "outputs": [
        {
          "output_type": "stream",
          "name": "stdout",
          "text": [
            "[1, 2, 3, 4, 5, 6, 7, 8, 9]\n",
            "[1, 2, 3, 4, 5]\n",
            "[9, 8, 7, 6, 5, 4, 3, 2, 1]\n",
            "[4, 5, 6, 7, 8]\n",
            "[2, 4, 6, 8]\n",
            "[1, 3, 5, 7, 9]\n"
          ]
        }
      ]
    },
    {
      "cell_type": "markdown",
      "source": [
        "###**TUPLES:-**\n",
        "\n",
        "---\n",
        "* Understanding TUPLES and their immutablity.\n",
        "\n",
        "* Creating TUPLES and accessing elements."
      ],
      "metadata": {
        "id": "y5SKGw6Eocal"
      }
    },
    {
      "cell_type": "markdown",
      "source": [
        "UNDERSTANDING TUPLES AND THEIR IMMUTABLITY:-\n",
        "\n",
        "**Tuple:**\n",
        "\n",
        "* It is a heterogeneous collection of items.\n",
        "* Tuples in pythonare also similar to python lists but not completely!\n",
        "* Tuple can be represented as in paranthesis \"( )\".\n",
        "* A tuple is immutable. which means that when we create the tuple , we can't change that.\n",
        "* Tuples can not be appended or extended.\n",
        "* In simple, we can not add, remove the items once the tuple is created.\n",
        "* we can also access the elements using index values and it can be ranging from index 0 and ends with (n-1).\n",
        "* Tuples are different from lists is that they cannot be modified. This means that items cannot be added to or removed from tuples, and items cannot be replaced within tuples"
      ],
      "metadata": {
        "id": "Ep5DgfZEql0v"
      }
    },
    {
      "cell_type": "code",
      "source": [
        "tup=(1,2,2,3,4)\n",
        "print(tup)\n",
        "print(type(tup))\n",
        "tup[3]"
      ],
      "metadata": {
        "id": "KqUMHHSOpmS2",
        "colab": {
          "base_uri": "https://localhost:8080/"
        },
        "outputId": "b48f3c6b-e84a-4118-b372-d4a1703f6cc9"
      },
      "execution_count": 8,
      "outputs": [
        {
          "output_type": "stream",
          "name": "stdout",
          "text": [
            "(1, 2, 2, 3, 4)\n",
            "<class 'tuple'>\n"
          ]
        },
        {
          "output_type": "execute_result",
          "data": {
            "text/plain": [
              "3"
            ]
          },
          "metadata": {},
          "execution_count": 8
        }
      ]
    },
    {
      "cell_type": "markdown",
      "source": [
        "SLICING IN TUPLES\n",
        "\n",
        "---\n",
        "\n",
        "As like the lists, we can also slice them using indexes..!!"
      ],
      "metadata": {
        "id": "0nDRI-kVQQa-"
      }
    },
    {
      "cell_type": "code",
      "source": [
        "tup=(1,2,3,4,5,\"pannu\")\n",
        "print(type(tup))\n",
        "print(\"tuple=\", tup)\n",
        "#TUPLE REVERSE\n",
        "print(\"Reverse of a tuple is \",tup[::-1])\n",
        "#SLICING A TUPLE\n",
        "tup=tup[1:4]\n",
        "print(\"Tuple after slicing is:\",tup)"
      ],
      "metadata": {
        "colab": {
          "base_uri": "https://localhost:8080/"
        },
        "id": "jcbtgwIhRryF",
        "outputId": "8e5b55e2-adf5-4d9e-c45c-2d27baca2691"
      },
      "execution_count": 9,
      "outputs": [
        {
          "output_type": "stream",
          "name": "stdout",
          "text": [
            "<class 'tuple'>\n",
            "tuple= (1, 2, 3, 4, 5, 'pannu')\n",
            "Reverse of a tuple is  ('pannu', 5, 4, 3, 2, 1)\n",
            "Tuple after slicing is: (2, 3, 4)\n"
          ]
        }
      ]
    },
    {
      "cell_type": "markdown",
      "source": [
        "**FUNCIONS OF TUPLES**\n",
        "\n",
        "---\n",
        "\n",
        "* len() -> which returns the legth of the tuple\n",
        "* max() -> wic returns the maximum value of the tuple.\n",
        "* min() -> which returns the minimum value in the tuple.\n"
      ],
      "metadata": {
        "id": "QeJfXvd6UHXq"
      }
    },
    {
      "cell_type": "code",
      "source": [
        "tup=(1,4,64,54,23,542,2345,564,234)\n",
        "print(tup)\n",
        "max(tup)\n",
        "print(\"The maximum value of the tuple is\", max(tup))\n",
        "print(\"The minimum value of the tuple is\", min(tup))\n",
        "tup=(len(tup))\n",
        "print(\"The length of the tuple is \",tup)"
      ],
      "metadata": {
        "colab": {
          "base_uri": "https://localhost:8080/"
        },
        "id": "8S7nRZW-U7dC",
        "outputId": "efe1746a-9a42-4e90-a5d9-d1f10cb62323"
      },
      "execution_count": 10,
      "outputs": [
        {
          "output_type": "stream",
          "name": "stdout",
          "text": [
            "(1, 4, 64, 54, 23, 542, 2345, 564, 234)\n",
            "The maximum value of the tuple is 2345\n",
            "The minimum value of the tuple is 1\n",
            "The length of the tuple is  9\n"
          ]
        }
      ]
    },
    {
      "cell_type": "markdown",
      "source": [
        "**TUPLE SUPPORTS PACKING AND UNPACKING**\n",
        "\n",
        "---\n",
        "\n",
        "PACKING:-\n",
        "\n",
        "* In tuple assignment packing and unpacking is very\n",
        "* Packing and unpacking can be combined into one statement to make a compound assignment\n",
        "* In packing, we put values into a new tuple while in unpacking we extract those values\n",
        "into a single variable.\n",
        "* Python uses a special syntax to pass optional arguments (*args) for tuple unpacking. This means\n",
        "that there can be many number of arguments in place of (*args) in python. All values will be\n",
        "assigned to every variable on the left-hand side and all remaining values will be assigned to\n",
        "*args .\n",
        "\n"
      ],
      "metadata": {
        "id": "CR_DRzg_bmOM"
      }
    },
    {
      "cell_type": "code",
      "source": [
        "#UNPACKING PYTHON TUPLE\n",
        "x,*y,z=(1,\"pannu\",92.87,7500,\"KIEW\")\n",
        "print(x)\n",
        "print(y)\n",
        "print(z)"
      ],
      "metadata": {
        "colab": {
          "base_uri": "https://localhost:8080/"
        },
        "id": "HYZ7hlRNc9qB",
        "outputId": "e4bd9c32-9d65-42bf-cdcb-8845c10ebfbf"
      },
      "execution_count": null,
      "outputs": [
        {
          "output_type": "stream",
          "name": "stdout",
          "text": [
            "1\n",
            "['pannu', 92.87, 7500]\n",
            "KIEW\n"
          ]
        }
      ]
    },
    {
      "cell_type": "markdown",
      "source": [
        "###**DICTIONARIES:-**\n",
        "\n",
        "---\n",
        "\n",
        "* Introduction to dictionaries and key:value pairs\n",
        "\n",
        "* Creating dictionaries and accessing elements.\n",
        "\n",
        "* Dictionary methods(gets, keys, values.. etc.,)"
      ],
      "metadata": {
        "id": "eB7zByhPpA-i"
      }
    },
    {
      "cell_type": "markdown",
      "source": [
        "**DICTINARY**\n",
        "\n",
        "* Dictionary in python is an unordereed collection of data values, used to store data values like a map, which unlike other Data types that hold only single values as an element\n",
        "* Dictionary holds key:value pair.\n",
        "* A  Dictionary can be created by placing sequence of elements within curly { } braces, separated by ‘comma’.\n",
        "\n",
        "\n",
        "    Syntax:\n",
        "    DictVar= {key:value,key:value,key:value}\n",
        "\n",
        "    "
      ],
      "metadata": {
        "id": "uoRFw2IDdeZN"
      }
    },
    {
      "cell_type": "code",
      "source": [
        "#EXAMPLE PROGRAM ON DICTIONARY\n",
        "\n",
        "dicto={ }\n",
        "print(type(dicto))\n",
        "dicto={\n",
        "    \"Name\":\"Pavani Kadari\",\n",
        "    \"PIN No\": \"23JN5A4501\",\n",
        "    \"Branch\":\"AID\",\n",
        "    \"FeeReum\":55000,\n",
        "    \"COLLEGE FEE\":41250,\n",
        "    \"BUS Fee\":20000,\n",
        "    \"FMML Fee\":3000\n",
        "    }\n",
        "print(dicto)"
      ],
      "metadata": {
        "id": "25zTx1EsqaHM",
        "colab": {
          "base_uri": "https://localhost:8080/"
        },
        "outputId": "d246dc59-bd3e-4b26-8fe7-7e8d3d63d5a7"
      },
      "execution_count": null,
      "outputs": [
        {
          "output_type": "stream",
          "name": "stdout",
          "text": [
            "<class 'dict'>\n",
            "{'Name': 'Pavani Kadari', 'PIN No': '23JN5A4501', 'Branch': 'AID', 'FeeReum': 55000, 'COLLEGE FEE': 41250, 'BUS Fee': 20000, 'FMML Fee': 3000}\n"
          ]
        }
      ]
    },
    {
      "cell_type": "markdown",
      "source": [
        "**ACCESSING ELEMENTS**\n",
        "\n",
        "We can access the items of a dictionary by referring to its key name, inside square brackets[ ]."
      ],
      "metadata": {
        "id": "3_A6k0T7f3hh"
      }
    },
    {
      "cell_type": "code",
      "source": [
        "#Accessing elements\n",
        "dicto[3000]\n"
      ],
      "metadata": {
        "id": "lrLN3qiNqbEP",
        "colab": {
          "base_uri": "https://localhost:8080/",
          "height": 36
        },
        "outputId": "52c5fffa-e86c-427b-8b68-50e3812fd837"
      },
      "execution_count": null,
      "outputs": [
        {
          "output_type": "execute_result",
          "data": {
            "text/plain": [
              "'Pavani Kadari'"
            ],
            "application/vnd.google.colaboratory.intrinsic+json": {
              "type": "string"
            }
          },
          "metadata": {},
          "execution_count": 20
        }
      ]
    },
    {
      "cell_type": "markdown",
      "source": [
        "**CHANGING OF VALUES**\n",
        "\n",
        " We can change the value of a specific item by referring to its key name:"
      ],
      "metadata": {
        "id": "-47iK1ifgkcv"
      }
    },
    {
      "cell_type": "code",
      "source": [
        "#changing of feereum 55k to 35k\n",
        "dicto['FeeReum']=35000\n",
        "print(dicto)"
      ],
      "metadata": {
        "colab": {
          "base_uri": "https://localhost:8080/"
        },
        "id": "Ar2sZkO8guI7",
        "outputId": "3f57a77b-8935-419d-ab83-cec7099afe14"
      },
      "execution_count": null,
      "outputs": [
        {
          "output_type": "stream",
          "name": "stdout",
          "text": [
            "{'Name': 'Pavani Kadari', 'PIN No': '23JN5A4501', 'Branch': 'AID', 'FeeReum': 35000, 'COLLEGE FEE': 41250, 'BUS Fee': 20000, 'FMML Fee': 3000}\n"
          ]
        }
      ]
    },
    {
      "cell_type": "code",
      "source": [
        "#TO PRINT ALL THE VALUES IN THE DICIONARY IN ONE BY ONE WE USE:\n",
        "\n",
        "for s in dicto:\n",
        "  print(dicto[s])"
      ],
      "metadata": {
        "colab": {
          "base_uri": "https://localhost:8080/"
        },
        "id": "zTv3iofzhCtd",
        "outputId": "1aaeb57f-9abf-4f7f-fdcc-523fccc76140"
      },
      "execution_count": null,
      "outputs": [
        {
          "output_type": "stream",
          "name": "stdout",
          "text": [
            "Pavani Kadari\n",
            "23JN5A4501\n",
            "AID\n",
            "35000\n",
            "41250\n",
            "20000\n",
            "3000\n"
          ]
        }
      ]
    },
    {
      "cell_type": "markdown",
      "source": [
        "**DICTIONARY METHODS:**\n",
        "\n",
        "* len()\n",
        "* pop()\n",
        "* clear()\n",
        "* copy()\n",
        "* We can add or remove the elements is also possible by making the key and values into the related dictionary.\n",
        "\n"
      ],
      "metadata": {
        "id": "ssYBB6p9hbnq"
      }
    },
    {
      "cell_type": "code",
      "source": [
        "#ADD ELEMENTS INTO DICTIONARY\n",
        "\n",
        "dicto[\"LAPTOP\"]=\"DELL\"\n",
        "print(dicto)\n",
        "#REMOVE ELEMENTS INTO DICTIONARY\n",
        "#dicto.pop(\"BUS Fee\")\n",
        "print(dicto)\n",
        "print(len(dicto))\n",
        "Dictino=dicto.copy()\n",
        "print(Dictino)"
      ],
      "metadata": {
        "colab": {
          "base_uri": "https://localhost:8080/"
        },
        "id": "GF0QlN7QiG1h",
        "outputId": "ea842417-4552-479b-81ba-4152c1efb1fc"
      },
      "execution_count": null,
      "outputs": [
        {
          "output_type": "stream",
          "name": "stdout",
          "text": [
            "{'Name': 'Pavani Kadari', 'PIN No': '23JN5A4501', 'Branch': 'AID', 'FeeReum': 35000, 'COLLEGE FEE': 41250, 'FMML Fee': 3000, 'LAPTOP': 'DELL'}\n",
            "{'Name': 'Pavani Kadari', 'PIN No': '23JN5A4501', 'Branch': 'AID', 'FeeReum': 35000, 'COLLEGE FEE': 41250, 'FMML Fee': 3000, 'LAPTOP': 'DELL'}\n",
            "7\n",
            "{'Name': 'Pavani Kadari', 'PIN No': '23JN5A4501', 'Branch': 'AID', 'FeeReum': 35000, 'COLLEGE FEE': 41250, 'FMML Fee': 3000, 'LAPTOP': 'DELL'}\n"
          ]
        }
      ]
    },
    {
      "cell_type": "code",
      "source": [
        "#ACCESS KEYS AND VALUES USING FOR LOOP\n",
        "\n",
        "for x,y in dicto.items():\n",
        "  print(x,y)"
      ],
      "metadata": {
        "colab": {
          "base_uri": "https://localhost:8080/"
        },
        "id": "eSzwW-GVjuf3",
        "outputId": "fd212040-eb23-4362-cb00-c54edfd08093"
      },
      "execution_count": null,
      "outputs": [
        {
          "output_type": "stream",
          "name": "stdout",
          "text": [
            "Name Pavani Kadari\n",
            "PIN No 23JN5A4501\n",
            "Branch AID\n",
            "FeeReum 35000\n",
            "COLLEGE FEE 41250\n",
            "FMML Fee 3000\n",
            "LAPTOP DELL\n"
          ]
        }
      ]
    },
    {
      "cell_type": "markdown",
      "source": [
        "## **Sets:**\n",
        "\n",
        "> Understanding sets and their unique elements.\n",
        "\n",
        "> Creating sets and basic set operations (union, intersection, etc.).\n",
        "\n",
        "\n"
      ],
      "metadata": {
        "id": "6_a_mFL7RabQ"
      }
    },
    {
      "cell_type": "markdown",
      "source": [
        "## **SETS**\n",
        "\n",
        "* It is an unordered collection of elements.\n",
        "* Mutable\n",
        "* No duplicants\n",
        "* This represents the mathematical notations of a set\n",
        "* Sets are the best than list on the method for checking whether a specific element is contained in the set.\n",
        "* We cannot access the elements by using an index.Only use loops to access the set.\n",
        "\n",
        "**Add Items**\n",
        "\n",
        "• To add one item to a set use the add() method.\n",
        "\n",
        "• To add more than one item to a set use the update() method.\n",
        "\n",
        "**Remove items**\n",
        "\n",
        "To remove an item in a set, use the remove(), or the discard() method.\n",
        "\n",
        "**Set Joining**\n",
        "\n",
        "> union ->|\n",
        "\n",
        "> intersection -> &\n",
        "\n",
        ">Difference -> -\n",
        "\n",
        ">We can also compare the sets also..!"
      ],
      "metadata": {
        "id": "CXyiIsjcSjXj"
      }
    },
    {
      "cell_type": "code",
      "execution_count": null,
      "metadata": {
        "colab": {
          "base_uri": "https://localhost:8080/"
        },
        "id": "4Ta_4KC2RKAs",
        "outputId": "0bf12de4-a15f-44b0-9fe9-461d26aef2e5"
      },
      "outputs": [
        {
          "output_type": "stream",
          "name": "stdout",
          "text": [
            "<class 'set'>\n"
          ]
        }
      ],
      "source": [
        "thisset={''}\n",
        "print(type(thisset))"
      ]
    },
    {
      "cell_type": "code",
      "source": [
        "thisset = {\"apple\", \"banana\", \"cherry\"}\n",
        "#USING FORLOOP WE CAN ACCESS SET ELEMENTS\n",
        "for x in thisset:\n",
        "  print(x)\n",
        "thisset.add(\"orange\")\n",
        "print(thisset)\n",
        "thisset.update([\"orange\", \"mango\", \"grapes\"])\n",
        "print(thisset)\n",
        "thisset.remove(\"banana\")\n",
        "print(thisset)\n",
        "thisset = {\"apple\", \"banana\", \"cherry\"}\n",
        "thisset.discard(\"banana\")\n",
        "print(thisset)"
      ],
      "metadata": {
        "colab": {
          "base_uri": "https://localhost:8080/"
        },
        "id": "e8_UqDsRZRVx",
        "outputId": "b28296a2-8c27-450b-9568-042604578f1f"
      },
      "execution_count": null,
      "outputs": [
        {
          "output_type": "stream",
          "name": "stdout",
          "text": [
            "banana\n",
            "apple\n",
            "cherry\n",
            "{'banana', 'orange', 'apple', 'cherry'}\n",
            "{'banana', 'apple', 'grapes', 'mango', 'orange', 'cherry'}\n",
            "{'apple', 'grapes', 'mango', 'orange', 'cherry'}\n",
            "{'apple', 'cherry'}\n"
          ]
        }
      ]
    },
    {
      "cell_type": "code",
      "source": [
        "#UNION\n",
        "DaysA = set([\"Mon\",\"Tue\",\"Wed\"])\n",
        "DaysB = set([\"Wed\",\"Thu\",\"Fri\",\"Sat\",\"Sun\"])\n",
        "AllDays = DaysA|DaysB\n",
        "print(AllDays)\n",
        "\n",
        "#INTERSECTION\n",
        "DaysA = set([\"Mon\",\"Tue\",\"Wed\"])\n",
        "DaysB = set([\"Wed\",\"Thu\",\"Fri\",\"Sat\",\"Sun\"])\n",
        "AllDays = DaysA & DaysB\n",
        "print(AllDays)\n",
        "\n",
        "#DIFFERENCE\n",
        "DaysA = set([\"Mon\",\"Tue\",\"Wed\"])\n",
        "DaysB = set([\"Wed\",\"Thu\",\"Fri\",\"Sat\",\"Sun\"])\n",
        "AllDays = DaysA - DaysB\n",
        "print(AllDays)"
      ],
      "metadata": {
        "colab": {
          "base_uri": "https://localhost:8080/"
        },
        "id": "9vSUWtEhatmW",
        "outputId": "0e943d2a-dc4b-49c4-8aa4-0973803d8740"
      },
      "execution_count": null,
      "outputs": [
        {
          "output_type": "stream",
          "name": "stdout",
          "text": [
            "{'Tue', 'Mon', 'Thu', 'Sat', 'Sun', 'Fri', 'Wed'}\n",
            "{'Wed'}\n",
            "{'Mon', 'Tue'}\n"
          ]
        }
      ]
    },
    {
      "cell_type": "markdown",
      "source": [
        "#**Problems**\n",
        "\n",
        "\n",
        "0) Find the second-largest number in a list (when the list not contains any duplicants).\n",
        "\n",
        "1) Remove duplicants from list.\n",
        "\n",
        "2) Find the second-largest number in a list (when the list contains  duplicants).\n",
        "\n",
        "\n",
        "3) check if a tuple contains a ertain value.\n",
        "\n",
        "4) Find the key with the maximum value in a dictionary.\n",
        "\n",
        "5) Check if a set is a subset of another set.\n",
        "\n"
      ],
      "metadata": {
        "id": "-C-R_RJikB8r"
      }
    },
    {
      "cell_type": "code",
      "source": [
        "# @title Problem0\n",
        "\n",
        "\n",
        "nums = [4, 2, 9, 6, 5]\n",
        "nums.sort()\n",
        "print(nums[-2])"
      ],
      "metadata": {
        "id": "PdnNH9TnkFm8",
        "colab": {
          "base_uri": "https://localhost:8080/"
        },
        "outputId": "d18fabee-c5c5-4cff-b16d-d2029063a155"
      },
      "execution_count": null,
      "outputs": [
        {
          "output_type": "stream",
          "name": "stdout",
          "text": [
            "6\n"
          ]
        }
      ]
    },
    {
      "cell_type": "code",
      "source": [
        "# @title Problem1\n",
        "\n",
        "def remove_duplicates(nums):\n",
        "    return list(set(nums))\n",
        "\n",
        "print(remove_duplicates([1, 2, 2, 3, 4, 4, 5]))"
      ],
      "metadata": {
        "id": "szj2-r9mn9Ia",
        "colab": {
          "base_uri": "https://localhost:8080/"
        },
        "outputId": "85068200-c9f2-4ead-e28a-ba9e511957d6"
      },
      "execution_count": null,
      "outputs": [
        {
          "output_type": "stream",
          "name": "stdout",
          "text": [
            "[1, 2, 3, 4, 5]\n"
          ]
        }
      ]
    },
    {
      "cell_type": "code",
      "source": [
        "# @title Problem2\n",
        "\n",
        "nums = [4, 2, 9, 6, 5, 9]\n",
        "nums = list(set(nums))  # remove duplicates\n",
        "nums.sort()\n",
        "if len(nums) < 2:\n",
        "    print(\"No second-largest number\")\n",
        "else:\n",
        "    print(nums[-2])"
      ],
      "metadata": {
        "id": "aUupS3uCpufe"
      },
      "execution_count": null,
      "outputs": []
    },
    {
      "cell_type": "code",
      "source": [
        "# @title Problem3\n",
        "\n",
        "\n",
        "def contains(tup, value):\n",
        "    return value in tup\n",
        "\n",
        "print(contains((1, 2, 3, 4, 5), 3))  # prints True\n",
        "print(contains((1, 2, 3, 4, 5), 6))  # prints False\n"
      ],
      "metadata": {
        "colab": {
          "base_uri": "https://localhost:8080/"
        },
        "id": "51AdWIsbsx3O",
        "outputId": "ab8f2402-b3e6-46c4-c478-b1a76653993b"
      },
      "execution_count": null,
      "outputs": [
        {
          "output_type": "stream",
          "name": "stdout",
          "text": [
            "True\n",
            "False\n"
          ]
        }
      ]
    },
    {
      "cell_type": "code",
      "source": [
        "# @title Problem4\n",
        "\n",
        "def max_key(d):\n",
        "    return max(d, key=d.get)\n",
        "\n",
        "print(max_key({\"a\": 4, \"b\": 2, \"c\": 9, \"d\": 6}))\n"
      ],
      "metadata": {
        "colab": {
          "base_uri": "https://localhost:8080/"
        },
        "id": "arKmZUvSvGTh",
        "outputId": "0ce5c10e-148b-4fc6-8a4c-cc70761eb023"
      },
      "execution_count": null,
      "outputs": [
        {
          "output_type": "stream",
          "name": "stdout",
          "text": [
            "c\n"
          ]
        }
      ]
    },
    {
      "cell_type": "code",
      "source": [
        "# @title Problem5\n",
        "\n",
        "def is_subset(set1, set2):\n",
        "    return set1.issubset(set2)\n",
        "\n",
        "print(is_subset({1, 2, 3}, {1, 2, 3, 4, 5}))  # prints True\n",
        "print(is_subset({1, 2, 3}, {4, 5, 6}))  # prints False"
      ],
      "metadata": {
        "id": "wgncKyoWvMfA"
      },
      "execution_count": null,
      "outputs": []
    }
  ]
}